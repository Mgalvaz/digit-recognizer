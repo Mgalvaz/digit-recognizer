{
  "nbformat": 4,
  "nbformat_minor": 0,
  "metadata": {
    "colab": {
      "provenance": [],
      "gpuType": "T4",
      "authorship_tag": "ABX9TyNjOOzarU1QSoaaJPrf2uni",
      "include_colab_link": true
    },
    "kernelspec": {
      "name": "python3",
      "display_name": "Python 3"
    },
    "language_info": {
      "name": "python"
    },
    "accelerator": "GPU"
  },
  "cells": [
    {
      "cell_type": "markdown",
      "metadata": {
        "id": "view-in-github",
        "colab_type": "text"
      },
      "source": [
        "<a href=\"https://colab.research.google.com/github/Mgalvaz/digit-recognizer/blob/main/src/train_classic_model.ipynb\" target=\"_parent\"><img src=\"https://colab.research.google.com/assets/colab-badge.svg\" alt=\"Open In Colab\"/></a>"
      ]
    },
    {
      "cell_type": "code",
      "execution_count": 8,
      "metadata": {
        "id": "WFM6inl_9x35"
      },
      "outputs": [],
      "source": [
        "from keras.losses import CategoricalCrossentropy\n",
        "from keras import layers, models\n",
        "from keras.datasets import mnist\n",
        "from keras.utils import to_categorical\n",
        "import tensorflow as tf\n",
        "import json"
      ]
    },
    {
      "cell_type": "code",
      "source": [
        "# Import the MNIST dataset\n",
        "(train_images, train_labels), (test_images, test_labels) = mnist.load_data()\n",
        "\n",
        "# Modify the images so that layers can \"understand\" the data\n",
        "train_images = train_images.reshape((-1, 28, 28, 1)).astype('float32')\n",
        "test_images = test_images.reshape((-1, 28, 28, 1)).astype('float32')\n",
        "\n",
        "# Labels one-hot encoding\n",
        "train_labels = to_categorical(train_labels)\n",
        "test_labels = to_categorical(test_labels)"
      ],
      "metadata": {
        "colab": {
          "base_uri": "https://localhost:8080/"
        },
        "id": "w5FcFa_J-t6t",
        "outputId": "86c423aa-a9c7-4740-9685-6cb99917861d"
      },
      "execution_count": 3,
      "outputs": [
        {
          "output_type": "stream",
          "name": "stdout",
          "text": [
            "Downloading data from https://storage.googleapis.com/tensorflow/tf-keras-datasets/mnist.npz\n",
            "\u001b[1m11490434/11490434\u001b[0m \u001b[32m━━━━━━━━━━━━━━━━━━━━\u001b[0m\u001b[37m\u001b[0m \u001b[1m0s\u001b[0m 0us/step\n"
          ]
        }
      ]
    },
    {
      "cell_type": "code",
      "source": [
        "# Create both CNN models\n",
        "model1 = models.Sequential([\n",
        "    layers.Input((28, 28, 1)),\n",
        "    layers.Rescaling(1./255),\n",
        "    layers.Conv2D(32, (3, 3), activation='relu'),\n",
        "    layers.MaxPooling2D((2, 2)),\n",
        "    layers.Conv2D(64, (3, 3), activation='relu'),\n",
        "    layers.MaxPooling2D((2, 2)),\n",
        "    layers.Flatten(),\n",
        "    layers.Dense(64, activation='relu'),\n",
        "    layers.Dense(10, activation='linear')\n",
        "    ])\n",
        "model2 = models.Sequential([\n",
        "    layers.Input((28,28,1)),\n",
        "    layers.Rescaling(1./255),\n",
        "    layers.Conv2D(128, kernel_size=(5,5), strides=(1,1), padding='same', activation='relu'),\n",
        "    layers.Conv2D(64, kernel_size=(3,3), strides=(1,1), padding='same', activation='relu'),\n",
        "    layers.MaxPooling2D(strides=(2,2), padding='valid'),\n",
        "    layers.Conv2D(32, kernel_size=(3,3), strides=(1,1), padding='same', activation='relu'),\n",
        "    layers.MaxPooling2D(strides=(2,2), padding='valid'),\n",
        "    layers.Dropout(0.25),\n",
        "    layers.Flatten(),\n",
        "    layers.Dense(32, activation='relu'),\n",
        "    layers.Dropout(0.5),\n",
        "    layers.Dense(10, activation='linear')\n",
        "])"
      ],
      "metadata": {
        "id": "9qIriBQg-41U"
      },
      "execution_count": 9,
      "outputs": []
    },
    {
      "cell_type": "code",
      "source": [
        "# Train the models\n",
        "model1.compile(optimizer='adam', loss=CategoricalCrossentropy(from_logits=True), metrics=['accuracy'])\n",
        "model2.compile(optimizer='adam', loss=CategoricalCrossentropy(from_logits=True), metrics=['accuracy'])\n",
        "history1 = model1.fit(train_images, train_labels, epochs=5, batch_size=64, validation_split=0.1)\n",
        "history2 = model2.fit(train_images, train_labels, epochs=5, batch_size=64, validation_split=0.1)\n",
        "\n",
        "# Evaluate the models\n",
        "test_loss1, test_acc1 = model1.evaluate(test_images, test_labels)\n",
        "test_loss2, test_acc2 = model2.evaluate(test_images, test_labels)"
      ],
      "metadata": {
        "colab": {
          "base_uri": "https://localhost:8080/"
        },
        "id": "bo1iY9fz--qc",
        "outputId": "04f1c1e7-93ca-4baf-ea2c-7e15b5804054"
      },
      "execution_count": 10,
      "outputs": [
        {
          "output_type": "stream",
          "name": "stdout",
          "text": [
            "Epoch 1/5\n",
            "\u001b[1m844/844\u001b[0m \u001b[32m━━━━━━━━━━━━━━━━━━━━\u001b[0m\u001b[37m\u001b[0m \u001b[1m8s\u001b[0m 6ms/step - accuracy: 0.8545 - loss: 0.4687 - val_accuracy: 0.9823 - val_loss: 0.0591\n",
            "Epoch 2/5\n",
            "\u001b[1m844/844\u001b[0m \u001b[32m━━━━━━━━━━━━━━━━━━━━\u001b[0m\u001b[37m\u001b[0m \u001b[1m3s\u001b[0m 4ms/step - accuracy: 0.9807 - loss: 0.0626 - val_accuracy: 0.9892 - val_loss: 0.0404\n",
            "Epoch 3/5\n",
            "\u001b[1m844/844\u001b[0m \u001b[32m━━━━━━━━━━━━━━━━━━━━\u001b[0m\u001b[37m\u001b[0m \u001b[1m3s\u001b[0m 4ms/step - accuracy: 0.9869 - loss: 0.0419 - val_accuracy: 0.9888 - val_loss: 0.0369\n",
            "Epoch 4/5\n",
            "\u001b[1m844/844\u001b[0m \u001b[32m━━━━━━━━━━━━━━━━━━━━\u001b[0m\u001b[37m\u001b[0m \u001b[1m4s\u001b[0m 4ms/step - accuracy: 0.9906 - loss: 0.0308 - val_accuracy: 0.9888 - val_loss: 0.0369\n",
            "Epoch 5/5\n",
            "\u001b[1m844/844\u001b[0m \u001b[32m━━━━━━━━━━━━━━━━━━━━\u001b[0m\u001b[37m\u001b[0m \u001b[1m3s\u001b[0m 4ms/step - accuracy: 0.9922 - loss: 0.0246 - val_accuracy: 0.9903 - val_loss: 0.0349\n",
            "Epoch 1/5\n",
            "\u001b[1m844/844\u001b[0m \u001b[32m━━━━━━━━━━━━━━━━━━━━\u001b[0m\u001b[37m\u001b[0m \u001b[1m16s\u001b[0m 14ms/step - accuracy: 0.7139 - loss: 0.8338 - val_accuracy: 0.9828 - val_loss: 0.0558\n",
            "Epoch 2/5\n",
            "\u001b[1m844/844\u001b[0m \u001b[32m━━━━━━━━━━━━━━━━━━━━\u001b[0m\u001b[37m\u001b[0m \u001b[1m8s\u001b[0m 9ms/step - accuracy: 0.9193 - loss: 0.2414 - val_accuracy: 0.9858 - val_loss: 0.0469\n",
            "Epoch 3/5\n",
            "\u001b[1m844/844\u001b[0m \u001b[32m━━━━━━━━━━━━━━━━━━━━\u001b[0m\u001b[37m\u001b[0m \u001b[1m8s\u001b[0m 9ms/step - accuracy: 0.9390 - loss: 0.1860 - val_accuracy: 0.9898 - val_loss: 0.0349\n",
            "Epoch 4/5\n",
            "\u001b[1m844/844\u001b[0m \u001b[32m━━━━━━━━━━━━━━━━━━━━\u001b[0m\u001b[37m\u001b[0m \u001b[1m7s\u001b[0m 9ms/step - accuracy: 0.9473 - loss: 0.1610 - val_accuracy: 0.9908 - val_loss: 0.0331\n",
            "Epoch 5/5\n",
            "\u001b[1m844/844\u001b[0m \u001b[32m━━━━━━━━━━━━━━━━━━━━\u001b[0m\u001b[37m\u001b[0m \u001b[1m8s\u001b[0m 9ms/step - accuracy: 0.9564 - loss: 0.1359 - val_accuracy: 0.9917 - val_loss: 0.0284\n",
            "\u001b[1m313/313\u001b[0m \u001b[32m━━━━━━━━━━━━━━━━━━━━\u001b[0m\u001b[37m\u001b[0m \u001b[1m1s\u001b[0m 3ms/step - accuracy: 0.9851 - loss: 0.0412\n",
            "\u001b[1m313/313\u001b[0m \u001b[32m━━━━━━━━━━━━━━━━━━━━\u001b[0m\u001b[37m\u001b[0m \u001b[1m2s\u001b[0m 5ms/step - accuracy: 0.9883 - loss: 0.0369\n"
          ]
        }
      ]
    },
    {
      "cell_type": "code",
      "source": [
        "def save_history(history, test_loss, test_acc, filename):\n",
        "    data = {\n",
        "        'history': history.history,\n",
        "        'test': {'test_loss': test_loss, 'test_accuracy': test_acc}\n",
        "    }\n",
        "    with open(filename, 'w') as f:\n",
        "        json.dump(data, f)\n",
        "\n",
        "model1.save('mnist_cnn1.keras')\n",
        "model2.save('mnist_cnn2.keras')\n",
        "\n",
        "# Save info\n",
        "save_history(history1, test_loss1, test_acc1, 'history1.json')\n",
        "save_history(history2, test_loss2, test_acc2, 'history2.json')"
      ],
      "metadata": {
        "id": "U3gOZqJoAsr7"
      },
      "execution_count": 12,
      "outputs": []
    }
  ]
}